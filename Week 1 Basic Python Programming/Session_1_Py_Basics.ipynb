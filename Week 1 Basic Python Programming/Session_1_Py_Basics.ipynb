{
  "nbformat": 4,
  "nbformat_minor": 0,
  "metadata": {
    "colab": {
      "provenance": []
    },
    "kernelspec": {
      "name": "python3",
      "display_name": "Python 3"
    },
    "language_info": {
      "name": "python"
    }
  },
  "cells": [
    {
      "cell_type": "markdown",
      "source": [
        "1. Python Output"
      ],
      "metadata": {
        "id": "09jFVo7SaXM3"
      }
    },
    {
      "cell_type": "code",
      "execution_count": null,
      "metadata": {
        "colab": {
          "base_uri": "https://localhost:8080/"
        },
        "id": "J-A4QNjfaEEK",
        "outputId": "230c9d28-674f-4815-972d-a01ac6a0d2c5"
      },
      "outputs": [
        {
          "output_type": "stream",
          "name": "stdout",
          "text": [
            "Hello Rohit\n"
          ]
        }
      ],
      "source": [
        "#python is case sensitive language\n",
        "print(\"Hello Rohit\")\n",
        "#Print()"
      ]
    },
    {
      "cell_type": "code",
      "source": [
        "#print(Welcome to python)"
      ],
      "metadata": {
        "id": "kF5i4PLsbFEf"
      },
      "execution_count": null,
      "outputs": []
    },
    {
      "cell_type": "code",
      "source": [
        "print(7)"
      ],
      "metadata": {
        "colab": {
          "base_uri": "https://localhost:8080/"
        },
        "id": "YEXnbSdJeWCQ",
        "outputId": "c894df8c-75fd-42e7-c7e3-0dd0f44a3f03"
      },
      "execution_count": null,
      "outputs": [
        {
          "output_type": "stream",
          "name": "stdout",
          "text": [
            "7\n"
          ]
        }
      ]
    },
    {
      "cell_type": "code",
      "source": [
        "print(7.7)"
      ],
      "metadata": {
        "colab": {
          "base_uri": "https://localhost:8080/"
        },
        "id": "t5OsuKIcemmV",
        "outputId": "5ed99e8e-c378-4d15-fc7c-7736c70965fe"
      },
      "execution_count": null,
      "outputs": [
        {
          "output_type": "stream",
          "name": "stdout",
          "text": [
            "7.7\n"
          ]
        }
      ]
    },
    {
      "cell_type": "code",
      "source": [
        "print(True)"
      ],
      "metadata": {
        "colab": {
          "base_uri": "https://localhost:8080/"
        },
        "id": "FKjr_zjxa_c4",
        "outputId": "0ff452be-47b5-4cd4-b691-da3b0227ea8b"
      },
      "execution_count": null,
      "outputs": [
        {
          "output_type": "stream",
          "name": "stdout",
          "text": [
            "True\n"
          ]
        }
      ]
    },
    {
      "cell_type": "code",
      "source": [
        "print('Rohit',1,1.5,True)"
      ],
      "metadata": {
        "colab": {
          "base_uri": "https://localhost:8080/"
        },
        "id": "yiR1UeMue4LH",
        "outputId": "8b96e89d-94a7-4fd1-90f5-81c3311c33f9"
      },
      "execution_count": null,
      "outputs": [
        {
          "output_type": "stream",
          "name": "stdout",
          "text": [
            "Rohit 1 1.5 True\n"
          ]
        }
      ]
    },
    {
      "cell_type": "code",
      "source": [
        "print('Rohit',1,1.5,True,sep='/')"
      ],
      "metadata": {
        "colab": {
          "base_uri": "https://localhost:8080/"
        },
        "id": "Y8M9H9rUfDCG",
        "outputId": "a60b5d82-0799-444a-e66f-e30d97af6aa4"
      },
      "execution_count": null,
      "outputs": [
        {
          "output_type": "stream",
          "name": "stdout",
          "text": [
            "Rohit/1/1.5/True\n"
          ]
        }
      ]
    },
    {
      "cell_type": "code",
      "source": [
        "print('Hello')\n",
        "print(\"World\")"
      ],
      "metadata": {
        "colab": {
          "base_uri": "https://localhost:8080/"
        },
        "id": "KunpJUecfdjr",
        "outputId": "e943e1af-beca-4740-f3cb-e8c51defd336"
      },
      "execution_count": null,
      "outputs": [
        {
          "output_type": "stream",
          "name": "stdout",
          "text": [
            "Hello\n",
            "World\n"
          ]
        }
      ]
    },
    {
      "cell_type": "code",
      "source": [
        "print('hello',end='-')\n",
        "print('rohit')"
      ],
      "metadata": {
        "colab": {
          "base_uri": "https://localhost:8080/"
        },
        "id": "YhaZaVQsfng0",
        "outputId": "8ba4d84b-4fb5-4259-e954-16e45be4decb"
      },
      "execution_count": null,
      "outputs": [
        {
          "output_type": "stream",
          "name": "stdout",
          "text": [
            "hello-rohit\n"
          ]
        }
      ]
    },
    {
      "cell_type": "markdown",
      "source": [
        "2. Data Types"
      ],
      "metadata": {
        "id": "tXw_gzFFa7Vd"
      }
    },
    {
      "cell_type": "code",
      "source": [
        "#Integer\n",
        "print(8)\n",
        "#  1 * 10^309\n",
        "print(1e308)"
      ],
      "metadata": {
        "colab": {
          "base_uri": "https://localhost:8080/"
        },
        "id": "rgS11JjNgHZj",
        "outputId": "7401dbec-46b0-4a58-8ba7-fc597b871eae"
      },
      "execution_count": null,
      "outputs": [
        {
          "output_type": "stream",
          "name": "stdout",
          "text": [
            "8\n",
            "1e+308\n"
          ]
        }
      ]
    },
    {
      "cell_type": "code",
      "source": [
        "# Decimal / Float\n",
        "print(5.55)\n",
        "print(1.7e309)"
      ],
      "metadata": {
        "colab": {
          "base_uri": "https://localhost:8080/"
        },
        "id": "yojk8PemgIrq",
        "outputId": "3dcafe2a-217b-46b6-8235-ed61763c87bf"
      },
      "execution_count": null,
      "outputs": [
        {
          "output_type": "stream",
          "name": "stdout",
          "text": [
            "5.55\n",
            "inf\n"
          ]
        }
      ]
    },
    {
      "cell_type": "code",
      "source": [
        "# Boolean\n",
        "print(True)\n",
        "print(False)"
      ],
      "metadata": {
        "colab": {
          "base_uri": "https://localhost:8080/"
        },
        "id": "XQiDK1KLgIuw",
        "outputId": "8eeb3b38-4f25-493a-9001-3e2c40c31cad"
      },
      "execution_count": null,
      "outputs": [
        {
          "output_type": "stream",
          "name": "stdout",
          "text": [
            "True\n",
            "False\n"
          ]
        }
      ]
    },
    {
      "cell_type": "code",
      "source": [
        "# Text / String\n",
        "print('Hello World')"
      ],
      "metadata": {
        "colab": {
          "base_uri": "https://localhost:8080/"
        },
        "id": "PN7IJX6Dg8nL",
        "outputId": "416e091f-1ccc-41eb-f36d-8b7d1c74e90f"
      },
      "execution_count": null,
      "outputs": [
        {
          "output_type": "stream",
          "name": "stdout",
          "text": [
            "Hello World\n"
          ]
        }
      ]
    },
    {
      "cell_type": "code",
      "source": [
        "# Complex\n",
        "print(5+6j)"
      ],
      "metadata": {
        "colab": {
          "base_uri": "https://localhost:8080/"
        },
        "id": "XF178-Bdg8ql",
        "outputId": "98a21d67-8e87-41f1-d06f-1297e3b4790d"
      },
      "execution_count": null,
      "outputs": [
        {
          "output_type": "stream",
          "name": "stdout",
          "text": [
            "(5+6j)\n"
          ]
        }
      ]
    },
    {
      "cell_type": "code",
      "source": [
        "# List -> C-> array\n",
        "print([1,2,3,4,5])"
      ],
      "metadata": {
        "colab": {
          "base_uri": "https://localhost:8080/"
        },
        "id": "dHyksus2g88b",
        "outputId": "0714d83a-aab6-4eb8-c223-963c7af83c4a"
      },
      "execution_count": null,
      "outputs": [
        {
          "output_type": "stream",
          "name": "stdout",
          "text": [
            "[1, 2, 3, 4, 5]\n"
          ]
        }
      ]
    },
    {
      "cell_type": "code",
      "source": [
        "# Tuple\n",
        "print((1,2,3,4,5))"
      ],
      "metadata": {
        "colab": {
          "base_uri": "https://localhost:8080/"
        },
        "id": "soglepimhbvn",
        "outputId": "fde69196-15c3-4ad9-9860-f11203e33579"
      },
      "execution_count": null,
      "outputs": [
        {
          "output_type": "stream",
          "name": "stdout",
          "text": [
            "(1, 2, 3, 4, 5)\n"
          ]
        }
      ]
    },
    {
      "cell_type": "code",
      "source": [
        "# Sets\n",
        "print({1,2,3,4,5})"
      ],
      "metadata": {
        "colab": {
          "base_uri": "https://localhost:8080/"
        },
        "id": "y5tuP19phhyD",
        "outputId": "35b87414-f081-49f7-8810-4480a1fbf12c"
      },
      "execution_count": null,
      "outputs": [
        {
          "output_type": "stream",
          "name": "stdout",
          "text": [
            "{1, 2, 3, 4, 5}\n"
          ]
        }
      ]
    },
    {
      "cell_type": "code",
      "source": [
        "# Dictionary\n",
        "print({'name':'Rohit Bedse','gender':'male','weight':55})"
      ],
      "metadata": {
        "colab": {
          "base_uri": "https://localhost:8080/"
        },
        "id": "M6Pi1-_nhmfR",
        "outputId": "63f87f22-0eae-4d06-ed2f-fcb2a438099e"
      },
      "execution_count": null,
      "outputs": [
        {
          "output_type": "stream",
          "name": "stdout",
          "text": [
            "{'name': 'Rohit Bedse', 'gender': 'male', 'weight': 55}\n"
          ]
        }
      ]
    },
    {
      "cell_type": "code",
      "source": [
        "#type\n",
        "type(7)"
      ],
      "metadata": {
        "colab": {
          "base_uri": "https://localhost:8080/"
        },
        "id": "DC54GLiniMjg",
        "outputId": "36a68023-af23-4eab-cd84-d2f3b09524dc"
      },
      "execution_count": null,
      "outputs": [
        {
          "output_type": "execute_result",
          "data": {
            "text/plain": [
              "int"
            ]
          },
          "metadata": {},
          "execution_count": 26
        }
      ]
    },
    {
      "cell_type": "markdown",
      "source": [
        "3. Variables"
      ],
      "metadata": {
        "id": "-FPRiGZYinWf"
      }
    },
    {
      "cell_type": "code",
      "source": [
        "# Static Vs Dynamic Typing\n",
        "# Static Vs Dynamic Binding\n",
        "# Stylish Declartion Techniques"
      ],
      "metadata": {
        "id": "fyeYmm3liMvQ"
      },
      "execution_count": null,
      "outputs": []
    },
    {
      "cell_type": "code",
      "source": [
        "# C/C++\n",
        "#int age = 10\n",
        "#Py\n",
        "name = 'rohit'\n",
        "print(name)\n",
        "type(name)"
      ],
      "metadata": {
        "id": "BS8FNGhvhp8C",
        "colab": {
          "base_uri": "https://localhost:8080/"
        },
        "outputId": "4a00436d-875e-4282-95c5-18a55fe6174b"
      },
      "execution_count": null,
      "outputs": [
        {
          "output_type": "stream",
          "name": "stdout",
          "text": [
            "rohit\n"
          ]
        },
        {
          "output_type": "execute_result",
          "data": {
            "text/plain": [
              "str"
            ]
          },
          "metadata": {},
          "execution_count": 2
        }
      ]
    },
    {
      "cell_type": "code",
      "source": [
        "a = '5'\n",
        "b = '5'\n",
        "print(a+b)"
      ],
      "metadata": {
        "colab": {
          "base_uri": "https://localhost:8080/"
        },
        "id": "oPeO0BIh1Q2u",
        "outputId": "bf38301f-c808-4cca-c468-8ee802fe4d7f"
      },
      "execution_count": null,
      "outputs": [
        {
          "output_type": "stream",
          "name": "stdout",
          "text": [
            "55\n"
          ]
        }
      ]
    },
    {
      "cell_type": "code",
      "source": [
        "#Dynamic Typing\n",
        "a = 5\n",
        "#Static Typing\n",
        "int a = 5"
      ],
      "metadata": {
        "id": "s5Rvnquw1hA6"
      },
      "execution_count": null,
      "outputs": []
    },
    {
      "cell_type": "code",
      "source": [
        "#Dynamic Binding\n",
        "a = 5\n",
        "print(a)\n",
        "a = 'rohit'\n",
        "print(a)"
      ],
      "metadata": {
        "colab": {
          "base_uri": "https://localhost:8080/"
        },
        "id": "qbdyncyW2ynd",
        "outputId": "0cd7dd00-0d83-4d2a-f060-7af8b12c21f7"
      },
      "execution_count": null,
      "outputs": [
        {
          "output_type": "stream",
          "name": "stdout",
          "text": [
            "5\n",
            "rohit\n"
          ]
        }
      ]
    },
    {
      "cell_type": "code",
      "source": [
        "#Static Binding\n",
        "int a = 5"
      ],
      "metadata": {
        "id": "1OVA0B3Z2zCa"
      },
      "execution_count": null,
      "outputs": []
    },
    {
      "cell_type": "code",
      "source": [
        "a,b,c = 1,2,4\n",
        "print(a,b,c)"
      ],
      "metadata": {
        "colab": {
          "base_uri": "https://localhost:8080/"
        },
        "id": "LLcYpaDz3wmY",
        "outputId": "1b0d95e9-2d34-4de8-a628-0aaf85c24a80"
      },
      "execution_count": null,
      "outputs": [
        {
          "output_type": "stream",
          "name": "stdout",
          "text": [
            "1 2 4\n"
          ]
        }
      ]
    },
    {
      "cell_type": "code",
      "source": [
        "a=b=c = 10\n",
        "print(a,b,c)"
      ],
      "metadata": {
        "colab": {
          "base_uri": "https://localhost:8080/"
        },
        "id": "nrLeyT5g354T",
        "outputId": "78aaf98a-5b99-4431-bc03-87dcb579baf6"
      },
      "execution_count": null,
      "outputs": [
        {
          "output_type": "stream",
          "name": "stdout",
          "text": [
            "10 10 10\n"
          ]
        }
      ]
    },
    {
      "cell_type": "markdown",
      "source": [
        "Comments"
      ],
      "metadata": {
        "id": "MitoNTLg4pzk"
      }
    },
    {
      "cell_type": "code",
      "source": [
        "#print Hello Rohit!\n",
        "print('Hello Rohit!')"
      ],
      "metadata": {
        "id": "oVh4_9P14AjF"
      },
      "execution_count": null,
      "outputs": []
    },
    {
      "cell_type": "markdown",
      "source": [
        "4. Keywords & Identifiers"
      ],
      "metadata": {
        "id": "a8AasdE94fU3"
      }
    },
    {
      "cell_type": "code",
      "source": [
        "#Keywords means reserved words in python ex. print , True , False , if , else........."
      ],
      "metadata": {
        "id": "46s4WVDd4zS_"
      },
      "execution_count": null,
      "outputs": []
    },
    {
      "cell_type": "code",
      "source": [
        "# Identifiers\n",
        "# You cannot start with digit\n",
        "name1 = 'Rohit'\n",
        "print(name1)\n",
        "# You Can you special char\n",
        "rohit_1 = 10\n",
        "print(rohit_1)\n",
        "# identifiers cannot be keywords"
      ],
      "metadata": {
        "colab": {
          "base_uri": "https://localhost:8080/"
        },
        "id": "PcjgLCo54zeR",
        "outputId": "ae6b8e4d-4c3c-41e8-adc6-f5994c127c90"
      },
      "execution_count": null,
      "outputs": [
        {
          "output_type": "stream",
          "name": "stdout",
          "text": [
            "Rohit\n",
            "10\n"
          ]
        }
      ]
    },
    {
      "cell_type": "markdown",
      "source": [
        "5. User Input"
      ],
      "metadata": {
        "id": "5EH5OPbo7RK8"
      }
    },
    {
      "cell_type": "code",
      "source": [
        "input('Enter a name : ')"
      ],
      "metadata": {
        "colab": {
          "base_uri": "https://localhost:8080/",
          "height": 53
        },
        "id": "nGqbbYeh7PKs",
        "outputId": "0634fe65-fa74-403d-8dd3-2b64dfeb370e"
      },
      "execution_count": null,
      "outputs": [
        {
          "name": "stdout",
          "output_type": "stream",
          "text": [
            "Enter a namerohit\n"
          ]
        },
        {
          "output_type": "execute_result",
          "data": {
            "text/plain": [
              "'rohit'"
            ],
            "application/vnd.google.colaboratory.intrinsic+json": {
              "type": "string"
            }
          },
          "metadata": {},
          "execution_count": 12
        }
      ]
    },
    {
      "cell_type": "code",
      "source": [
        "# Take input from user and store into variables\n",
        "a = input(\"Enter a num : \")\n",
        "a"
      ],
      "metadata": {
        "colab": {
          "base_uri": "https://localhost:8080/",
          "height": 53
        },
        "id": "2QUwkdX67Pc2",
        "outputId": "754262e9-dac6-4bec-ca01-41f5c49087d9"
      },
      "execution_count": null,
      "outputs": [
        {
          "name": "stdout",
          "output_type": "stream",
          "text": [
            "Enter a num : 5\n"
          ]
        },
        {
          "output_type": "execute_result",
          "data": {
            "text/plain": [
              "'5'"
            ],
            "application/vnd.google.colaboratory.intrinsic+json": {
              "type": "string"
            }
          },
          "metadata": {},
          "execution_count": 14
        }
      ]
    },
    {
      "cell_type": "code",
      "source": [
        "a  = input(\"Enter a num : \")\n",
        "b = input(\"Enter a num : \")\n",
        "c = int(a) + int(b)\n",
        "print(c)\n",
        "type(a)"
      ],
      "metadata": {
        "colab": {
          "base_uri": "https://localhost:8080/"
        },
        "id": "Cy6aMGPy8KzG",
        "outputId": "3de93caa-39cc-4beb-e5bb-f447a90da96d"
      },
      "execution_count": null,
      "outputs": [
        {
          "output_type": "stream",
          "name": "stdout",
          "text": [
            "Enter a num : 5\n",
            "Enter a num : 5\n",
            "10\n"
          ]
        },
        {
          "output_type": "execute_result",
          "data": {
            "text/plain": [
              "str"
            ]
          },
          "metadata": {},
          "execution_count": 24
        }
      ]
    },
    {
      "cell_type": "code",
      "source": [
        "a  = int(input(\"Enter a num : \"))\n",
        "b = int(input(\"Enter a num : \"))\n",
        "c = a + b\n",
        "print(c)\n",
        "type(a)"
      ],
      "metadata": {
        "colab": {
          "base_uri": "https://localhost:8080/"
        },
        "id": "JpSb9kEz_HY0",
        "outputId": "f57acfe8-ba5f-4395-d1e3-d59471582705"
      },
      "execution_count": null,
      "outputs": [
        {
          "output_type": "stream",
          "name": "stdout",
          "text": [
            "Enter a num : 5\n",
            "Enter a num : 5\n",
            "10\n"
          ]
        },
        {
          "output_type": "execute_result",
          "data": {
            "text/plain": [
              "int"
            ]
          },
          "metadata": {},
          "execution_count": 25
        }
      ]
    },
    {
      "cell_type": "markdown",
      "source": [
        "6. Type Conversion"
      ],
      "metadata": {
        "id": "S-IGqkoC9btH"
      }
    },
    {
      "cell_type": "code",
      "source": [
        "# Implicit Vs Explicit\n",
        "print(5+5.5)\n",
        "print(type(5),type(5.6))"
      ],
      "metadata": {
        "colab": {
          "base_uri": "https://localhost:8080/"
        },
        "id": "sD8FC39f8tVY",
        "outputId": "b98df2ac-8904-4eae-d73b-199ea0303959"
      },
      "execution_count": null,
      "outputs": [
        {
          "output_type": "stream",
          "name": "stdout",
          "text": [
            "10.5\n",
            "<class 'int'> <class 'float'>\n"
          ]
        }
      ]
    },
    {
      "cell_type": "code",
      "source": [
        "#Explicit\n",
        "#str -> int\n",
        "type(int(5))"
      ],
      "metadata": {
        "colab": {
          "base_uri": "https://localhost:8080/"
        },
        "id": "OmkZz0eP92Bs",
        "outputId": "66a8d618-f026-4606-9561-7483d8ccb6c7"
      },
      "execution_count": null,
      "outputs": [
        {
          "output_type": "execute_result",
          "data": {
            "text/plain": [
              "int"
            ]
          },
          "metadata": {},
          "execution_count": 17
        }
      ]
    },
    {
      "cell_type": "code",
      "source": [
        "#int to str\n",
        "str(5)"
      ],
      "metadata": {
        "colab": {
          "base_uri": "https://localhost:8080/",
          "height": 35
        },
        "id": "NZx5qVL5-JBY",
        "outputId": "6aaf4490-4c29-4ba3-b77d-b334fbc999ed"
      },
      "execution_count": null,
      "outputs": [
        {
          "output_type": "execute_result",
          "data": {
            "text/plain": [
              "'5'"
            ],
            "application/vnd.google.colaboratory.intrinsic+json": {
              "type": "string"
            }
          },
          "metadata": {},
          "execution_count": 20
        }
      ]
    },
    {
      "cell_type": "markdown",
      "source": [
        "7. Literals"
      ],
      "metadata": {
        "id": "SnByYnXGCeKc"
      }
    },
    {
      "cell_type": "code",
      "source": [
        "a = 0b1010  #Binary Literal\n",
        "b = 100  #Decimal Literal\n",
        "c = 0o310   #Octal Literal\n",
        "d = 0x12c  #Hexadecimal Literls\n",
        "\n",
        "#Float literal\n",
        "f_1 = 10.5\n",
        "f_2 = 1.5e2\n",
        "f_3 = 1.5e-3\n",
        "\n",
        "#Complex Literal\n",
        "x = 3.14j\n",
        "\n",
        "print(a,b,c,d)\n",
        "print(f_1,f_2,f_3)\n",
        "print(x)"
      ],
      "metadata": {
        "colab": {
          "base_uri": "https://localhost:8080/"
        },
        "id": "_brPRk3q-bAH",
        "outputId": "41097149-259f-4475-8c96-08a67035cbd3"
      },
      "execution_count": null,
      "outputs": [
        {
          "output_type": "stream",
          "name": "stdout",
          "text": [
            "10 100 200 300\n",
            "10.5 150.0 0.0015\n",
            "3.14j\n"
          ]
        }
      ]
    },
    {
      "cell_type": "code",
      "source": [
        "string = 'This is rohit'\n",
        "strings = \"This is also rohit\"\n",
        "multiline_str = \"\"\"Hi Hello rohit how are you my name is _\"\"\"\n",
        "unicode = u\"\\U0001f600\\U0001F606\\U0001F923\"\n",
        "raw_str = r\"raw \\n string\"\n",
        "\n",
        "print(string)\n",
        "print(strings)\n",
        "print(multiline_str)\n",
        "print(unicode)\n",
        "print(raw_str)"
      ],
      "metadata": {
        "id": "mWi6bHamCLhH",
        "colab": {
          "base_uri": "https://localhost:8080/"
        },
        "outputId": "64bd1f33-a915-4a3f-c4fe-b0b7ee5efda7"
      },
      "execution_count": null,
      "outputs": [
        {
          "output_type": "stream",
          "name": "stdout",
          "text": [
            "This is rohit\n",
            "This is also rohit\n",
            "Hi Hello rohit how are you my name is _\n",
            "😀😆🤣\n",
            "raw \\n string\n"
          ]
        }
      ]
    },
    {
      "cell_type": "code",
      "source": [
        "#Value of True is 1\n",
        "#value of False is 0\n",
        "a = True + 2\n",
        "b = False + 2\n",
        "print(a,b)"
      ],
      "metadata": {
        "colab": {
          "base_uri": "https://localhost:8080/"
        },
        "id": "QDNoA7NpE6mG",
        "outputId": "90613f3d-9825-4923-ebe3-0197f64c408d"
      },
      "execution_count": null,
      "outputs": [
        {
          "output_type": "stream",
          "name": "stdout",
          "text": [
            "3 2\n"
          ]
        }
      ]
    },
    {
      "cell_type": "code",
      "source": [
        "k = None\n",
        "a = 5\n",
        "b = 3\n",
        "print(k,a,b)"
      ],
      "metadata": {
        "colab": {
          "base_uri": "https://localhost:8080/"
        },
        "id": "mVokQ1V9FQx2",
        "outputId": "bc9b12bb-fa43-4b30-cdff-c35c7bddd089"
      },
      "execution_count": null,
      "outputs": [
        {
          "output_type": "stream",
          "name": "stdout",
          "text": [
            "None 5 3\n"
          ]
        }
      ]
    },
    {
      "cell_type": "code",
      "source": [],
      "metadata": {
        "id": "m2ouB9xaFddU"
      },
      "execution_count": null,
      "outputs": []
    }
  ]
}